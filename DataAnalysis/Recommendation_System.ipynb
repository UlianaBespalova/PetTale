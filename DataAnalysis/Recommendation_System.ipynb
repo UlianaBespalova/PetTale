{
 "cells": [
  {
   "cell_type": "code",
   "execution_count": 4,
   "id": "891de206",
   "metadata": {},
   "outputs": [],
   "source": [
    "import pandas as pd\n",
    "import numpy as np\n",
    "from sklearn.metrics.pairwise import cosine_similarity, euclidean_distances\n",
    "from sklearn.preprocessing import MinMaxScaler"
   ]
  },
  {
   "cell_type": "code",
   "execution_count": 13,
   "id": "3dd25ba0",
   "metadata": {},
   "outputs": [],
   "source": [
    "items = pd.read_csv('db/db.txt', sep=\"|\")\n",
    "items.index = items['id']\n",
    "\n",
    "acqs = pd.read_csv('db/comments.txt', sep=\"|\")"
   ]
  },
  {
   "cell_type": "code",
   "execution_count": 16,
   "id": "a2a0bec9",
   "metadata": {},
   "outputs": [
    {
     "data": {
      "text/plain": [
       "0"
      ]
     },
     "execution_count": 16,
     "metadata": {},
     "output_type": "execute_result"
    }
   ],
   "source": [
    "# items = pd.read_csv('db/db.txt', sep=\"|\")\n",
    "\n",
    "# # ---------------------Шаг 0-----------------------Векторы должны храниться------\n",
    "# dv = DataVector()\n",
    "# items_vector = dv.get_vector(items)\n",
    "\n",
    "items_vector = pd.read_csv('db/items_vector.txt', sep=\"|\")\n",
    "items_vector.index = items_vector['id']\n",
    "items_vector = items_vector.drop(columns=['id'])\n",
    "# # -------------------------------------------------------------------------------\n",
    "\n",
    "# Эту хрень тоже придется хранить\n",
    "# ------------------------------------Еще один шаг 0--------------------\n",
    "# uMatrix = UtilityMatrix()\n",
    "# uMatrix.create_utility_martix(acqs)\n",
    "\n",
    "um = pd.read_csv('db/user_item_matrix.txt', sep=\"|\")\n",
    "um.index = um.index+1\n",
    "um.columns = pd.to_numeric(um.columns) # Возможно, в бдхе преобразовывать не понадобится\n",
    "uMatrix = UtilityMatrix()\n",
    "uMatrix.add_ready_martix(um)"
   ]
  },
  {
   "cell_type": "code",
   "execution_count": null,
   "id": "18b8a246",
   "metadata": {},
   "outputs": [],
   "source": []
  },
  {
   "cell_type": "code",
   "execution_count": 3,
   "id": "70d8c372",
   "metadata": {},
   "outputs": [],
   "source": [
    "# *************************************** * * * ** \n",
    "class DataVector():\n",
    "    \n",
    "    types = ['комбинезон', 'жилет', 'пакет', 'футболка', 'толстовка', 'пуховик',\n",
    "         'свитер', 'куртка', 'дождевик', 'снуд', 'попона', 'платье', 'шуба', \n",
    "         'пальто', 'дубленка', 'костюм', 'пыльник', 'худи', 'плащ', 'халат',\n",
    "         'майка', 'штаны', 'рубашка', 'сарафан', 'парка', 'косынка', 'повязка']\n",
    "    \n",
    "        # -----Fix sex\n",
    "    sex_types_male = ['самец', 'кабель', 'унисекс', 'мужской', 'мальчик']\n",
    "    sex_types_female = ['самка', 'сука', 'унисекс', 'женский', 'девочка']\n",
    "    \n",
    "    size_types_small = ['мелк', 'все', 'мал']\n",
    "    size_types_middle = ['средн', 'все', 'небольш']\n",
    "    size_types_big = ['крупн', 'все', 'больш']\n",
    "    \n",
    "    color_types_red = ['красн', 'малин', 'ал', 'бордов', 'кораллов', 'марсала']\n",
    "    color_types_brown = ['коричнев', 'какао', 'шоколад', 'терракот', 'бронз', 'вин', 'капучино']\n",
    "    color_types_orange = ['оранж', 'рыж', 'лососев']\n",
    "    color_types_beige = ['бежев', 'пудров', 'жемчужн', 'кремов', 'персик']\n",
    "    color_types_yellow = ['желт', 'золот', 'лимон', 'горчичн',]\n",
    "    color_types_white = ['бел', 'сер', 'серебр', 'прозрачн']\n",
    "    color_types_black = ['черн', 'графит', 'чернильн']\n",
    "    color_types_pink = ['роз', 'фиолет', 'сирен', 'лаванд', 'фуксия', 'лилов', 'сумеречн']\n",
    "    color_types_blue = ['син', 'голуб', 'васильков', 'лазурн', 'электрик']\n",
    "    color_types_green = ['зелен', 'салат', 'хаки', 'мят', 'оливк', 'изумруд',\n",
    "                         'бирюз', 'лайм', 'камуфляж']\n",
    "    \n",
    "    \n",
    "    def __get_type(self, typ, template) :\n",
    "        typ_small = typ.lower()\n",
    "        for elem in template:\n",
    "            if typ_small.find(elem) != -1:\n",
    "                return elem\n",
    "        return 'unknown'\n",
    "    \n",
    "    def __get_type_bool(self, typ, template) :\n",
    "        typ_small = typ.lower()\n",
    "        for elem in template:\n",
    "            if typ_small.find(elem) != -1:\n",
    "                return 1\n",
    "        return 0\n",
    "    \n",
    "    def __get_type_color(self, typ) :\n",
    "        typ_small = typ.lower()\n",
    "        for elem in self.color_types_blue:\n",
    "            if typ_small.find(elem) != -1:\n",
    "                return 'синий'\n",
    "        for elem in self.color_types_pink:\n",
    "            if typ_small.find(elem) != -1:\n",
    "                return 'розовый'\n",
    "        for elem in self.color_types_white:\n",
    "            if typ_small.find(elem) != -1:\n",
    "                return 'белый'     \n",
    "        for elem in self.color_types_red:\n",
    "            if typ_small.find(elem) != -1:\n",
    "                return 'красный'\n",
    "        for elem in self.color_types_black:\n",
    "            if typ_small.find(elem) != -1:\n",
    "                return 'черный'\n",
    "        for elem in self.color_types_orange:\n",
    "            if typ_small.find(elem) != -1:\n",
    "                return 'оранжевый'   \n",
    "        for elem in self.color_types_green:\n",
    "            if typ_small.find(elem) != -1:\n",
    "                return 'зеленый'\n",
    "        for elem in self.color_types_yellow:\n",
    "            if typ_small.find(elem) != -1:\n",
    "                return 'желтый'\n",
    "        for elem in self.color_types_brown:\n",
    "            if typ_small.find(elem) != -1:\n",
    "                return 'коричневый'   \n",
    "        for elem in self.color_types_beige:\n",
    "            if typ_small.find(elem) != -1:\n",
    "                return 'бежевый'          \n",
    "\n",
    "        return 'unknown'\n",
    "    \n",
    "    \n",
    "    # Функция для генерации вектора\n",
    "    def get_vector(self, items_matrix):\n",
    "        \n",
    "        sc = MinMaxScaler()\n",
    "        items_matrix[['Price']] = sc.fit_transform(items_matrix[['Price']])\n",
    "\n",
    "        d = {'brand': items_matrix['Brand'], 'price': items_matrix['Price']}\n",
    "        items_int = pd.DataFrame(data=d)\n",
    "\n",
    "        items_int[['type']] = items_matrix.apply(lambda x: self.__get_type(str(x['Type']), self.types), axis=1)\n",
    "\n",
    "        items_int[['sex_male']] = items_matrix.apply(lambda x: self.__get_type_bool(str(x['Sex']), self.sex_types_male), axis=1)\n",
    "        items_int[['sex_female']] = items_matrix.apply(lambda x: self.__get_type_bool(str(x['Sex']), self.sex_types_female), axis=1)\n",
    "\n",
    "        items_int[['size_small']] = items_matrix.apply(lambda x: self.__get_type_bool(str(x['Size']), self.size_types_small), axis=1)\n",
    "        items_int[['size_middle']] = items_matrix.apply(lambda x: self.__get_type_bool(str(x['Size']), self.size_types_middle), axis=1)\n",
    "        items_int[['size_big']] = items_matrix.apply(lambda x: self.__get_type_bool(str(x['Size']), self.size_types_big), axis=1)\n",
    "\n",
    "        items_int[['color']] = items_matrix.apply(lambda x: self.__get_type_color(str(x['Color'])), axis=1)\n",
    "        \n",
    "\n",
    "        res = pd.get_dummies(items_int)\n",
    "\n",
    "        if 'color_unknown' in res.columns:\n",
    "            res = res.drop(['color_unknown'], axis=1)\n",
    "        if 'type_unknown' in res.columns:\n",
    "            res = res.drop(['type_unknown'], axis=1)    \n",
    "            \n",
    "        res.index = items_matrix['id']    \n",
    "\n",
    "        return res\n",
    "        "
   ]
  },
  {
   "cell_type": "code",
   "execution_count": 4,
   "id": "e7bdd3e7",
   "metadata": {},
   "outputs": [],
   "source": [
    "# ************************************** * * * * ** * * *\n",
    "# Фигачим класс для высчитывания ближайших значений\n",
    "\n",
    "class GetKNearestNeighbours:\n",
    "    \n",
    "    def __init__(self, X_matrix, X_ids=[]):\n",
    "        self._X_matrix = X_matrix\n",
    "        self.df = pd.DataFrame({\n",
    "            'id': pd.Series(X_ids, dtype='int'),\n",
    "            'dist': pd.Series([], dtype='float'),\n",
    "        })\n",
    "        self.similarity_matrix = pd.DataFrame()\n",
    "        \n",
    "       \n",
    "    def neighbours_for_single_object(self, K: int, X_matrix_object):\n",
    "        \n",
    "        dist = cosine_similarity(self._X_matrix, X_matrix_object)\n",
    "        dist = pd.DataFrame(dist, columns=['dist'])\n",
    "        self.df['dist'] = dist['dist']\n",
    "        res = self.df.sort_values(by='dist', ascending=False)\n",
    "        res = res.head(K)\n",
    "#         res = res[1:]\n",
    "        return res\n",
    "    \n",
    "\n",
    "    def all_neighbours_for_single_object(self, X_matrix_object):\n",
    "        \n",
    "        dist = cosine_similarity(self._X_matrix, X_matrix_object)\n",
    "        dist = pd.DataFrame(dist, columns=['dist'])\n",
    "        self.df['dist'] = dist['dist']\n",
    "        return self.df\n",
    "    \n",
    "    \n",
    "    def get_similarity_matrix(self):\n",
    "        self.similarity_matrix = pd.DataFrame()\n",
    "        for i in range (len(self._X_matrix)):\n",
    "            print(i, end='\\r')\n",
    "            res = self.all_neighbours_for_single_object([self._X_matrix.iloc[i]])\n",
    "            self.similarity_matrix[i+1] = res['dist']\n",
    "          \n",
    "        self.similarity_matrix.index = self.df['id']\n",
    "        print('\\n----------------------\\nReady\\n')  \n",
    "        \n",
    "        \n",
    "     # Получаем похожих по матрице схожести\n",
    "    def neighbours_by_similarity_matrix(self, K, item_id):\n",
    "        if item_id > len(self.similarity_matrix):\n",
    "            return ''\n",
    "        res = pd.DataFrame({'dist':self.similarity_matrix[item_id]})\n",
    "        res = res.sort_values(by='dist', ascending=False)\n",
    "        res = res.head(K)\n",
    "        return res[1:]       \n",
    "        "
   ]
  },
  {
   "cell_type": "markdown",
   "id": "61aca915",
   "metadata": {},
   "source": [
    "### ------------------------------------------------------------------------- Похожие ----------------------------------------------"
   ]
  },
  {
   "cell_type": "code",
   "execution_count": 5,
   "id": "21f1f79f",
   "metadata": {},
   "outputs": [],
   "source": [
    "# ---------------------Шаг 1-----------------------Выдача похожих товаров\n",
    "# это буквально все, что нужно, при наличии items_vector\n",
    "\n",
    "def Get_Simple_Items(items_vector_matrix, item_id, K):\n",
    "    if item_id not in items_vector_matrix.index:\n",
    "        return []\n",
    "    getKnn = GetKNearestNeighbours(items_vector_matrix, items_vector_matrix.index) # Класс ближайших\n",
    "    res = getKnn.neighbours_for_single_object(K, [items_vector_matrix.loc[item_id]])\n",
    "    res = res[1:]\n",
    "    return list(res['id'])\n",
    "\n",
    "# -------------------------------------------------"
   ]
  },
  {
   "cell_type": "code",
   "execution_count": 17,
   "id": "a5741a66",
   "metadata": {},
   "outputs": [
    {
     "name": "stdout",
     "output_type": "stream",
     "text": [
      "CPU times: user 43.4 ms, sys: 0 ns, total: 43.4 ms\n",
      "Wall time: 29.3 ms\n"
     ]
    }
   ],
   "source": [
    "%%time\n",
    "simple_items = Get_Simple_Items(items_vector, 20, 10)"
   ]
  },
  {
   "cell_type": "markdown",
   "id": "209b739b",
   "metadata": {},
   "source": [
    "### ------------------------------------------------------------------------- Рекомендации ----------------------------------------------"
   ]
  },
  {
   "cell_type": "markdown",
   "id": "8c3e45ac",
   "metadata": {},
   "source": [
    "#### ---------------------------------------------------- User-Based -------------------------------------"
   ]
  },
  {
   "cell_type": "code",
   "execution_count": 7,
   "id": "a96262e9",
   "metadata": {},
   "outputs": [],
   "source": [
    "# ******************************** * * * * * \n",
    "# Матрица схожести по списку покупок \n",
    "\n",
    "class UtilityMatrix():\n",
    "\n",
    "    def create_utility_martix(self, data):\n",
    "\n",
    "        userList = data['userId'].tolist()\n",
    "        itemList = data['itemId'].tolist()\n",
    "\n",
    "        userList = list(set(userList))\n",
    "        itemList = list(set(itemList))\n",
    "        itemList.sort()\n",
    "\n",
    "        X = pd.DataFrame({item: [0 for i in range(len(userList))] for item in itemList})\n",
    "        X.index = userList\n",
    "\n",
    "        number = 0\n",
    "        for i, row in data.iterrows():\n",
    "            print (i, end='\\r')\n",
    "            X[row['itemId']][row['userId']] = 1\n",
    "            number+=1\n",
    "        self.matrix = X    \n",
    "        print('added items = ', number)\n",
    "        \n",
    "        \n",
    "    def add_ready_martix(self, data): \n",
    "        self.matrix = data.copy()\n",
    "        return 0\n",
    "        \n",
    "        \n",
    "    def add_bought(self, item_id, user_id):   \n",
    "        try:\n",
    "            self.matrix[item_id][user_id] = 1\n",
    "        finally:\n",
    "            return 0\n",
    "        return 0\n",
    "    \n",
    "    \n",
    "    def new_user(self, user_id):\n",
    "        try:\n",
    "            if user_id not in self.matrix.index:\n",
    "                new_row = pd.Series([0]*len(self.matrix.columns))\n",
    "                new_row.index = self.matrix.columns\n",
    "\n",
    "                index_list = list(self.matrix.index)\n",
    "                index_list.append(user_id)\n",
    "\n",
    "                self.matrix = self.matrix.append(new_row, ignore_index=True)\n",
    "                self.matrix.index = index_list  \n",
    "                return 0\n",
    "        finally:\n",
    "            return 0"
   ]
  },
  {
   "cell_type": "code",
   "execution_count": 8,
   "id": "ae09d853",
   "metadata": {},
   "outputs": [],
   "source": [
    "# ************************************* * * * * *\n",
    "# Класс ближайших пользователей\n",
    "class GetKNearestUsers(GetKNearestNeighbours):\n",
    "    \n",
    "    def __init__(self, X_matrix, X_ids=[]):\n",
    "        super().__init__(X_matrix, X_ids)\n",
    "       \n",
    "    \n",
    "    def neighbours_for_single_user(self, K: int, X_matrix_object):\n",
    "        \n",
    "        res = self.neighbours_for_single_object(K, X_matrix_object) #индекс, не айдишник (с 0)\n",
    "        res = res.drop(res[res.dist==0].index) #Убираем пользователей с расстоянием 0\n",
    "        return res"
   ]
  },
  {
   "cell_type": "code",
   "execution_count": 9,
   "id": "6401fa76",
   "metadata": {},
   "outputs": [],
   "source": [
    "# ********************************** * * ** \n",
    "# Функция для выковыривания товаров пользователя\n",
    "\n",
    "def get_all_items_of_one_user(user_id, acqs_data):\n",
    "    comms = acqs_data['userId'][acqs_data['userId']==user_id]\n",
    "    items_list = []\n",
    "    for com in comms.index:\n",
    "        items_list.append(acqs_data['itemId'][com])\n",
    "    return items_list  "
   ]
  },
  {
   "cell_type": "code",
   "execution_count": 10,
   "id": "09344a6c",
   "metadata": {},
   "outputs": [],
   "source": [
    "# ******************** * ** * ** ** * Список рекомендуемых товаров для пользователя\n",
    "\n",
    "def Get_K_UserBased(user_id, K, u_i_matrix, acqq_matrix):\n",
    "    \n",
    "    if user_id not in u_i_matrix.index:\n",
    "        return []\n",
    "    \n",
    "    getKnnUsers = GetKNearestUsers(u_i_matrix, u_i_matrix.index)\n",
    "    res = getKnnUsers.neighbours_for_single_user(K+1, [u_i_matrix.loc[user_id]]) # айдишник  \n",
    "    \n",
    "    similar_users = res['id'].values.tolist()\n",
    "    if user_id in similar_users:\n",
    "        similar_users.remove(user_id)\n",
    "    \n",
    "    \n",
    "    items_for_user = []\n",
    "    \n",
    "    for one_sim_user_id in similar_users:   \n",
    "        if one_sim_user_id == 0:\n",
    "            continue\n",
    "        items_for_user.extend(get_all_items_of_one_user(one_sim_user_id, acqq_matrix))\n",
    "        \n",
    "        \n",
    "    if len(items_for_user) == 0:\n",
    "        return []\n",
    "\n",
    "\n",
    "    items_set = list(set(items_for_user))\n",
    "    items_arr = []\n",
    "    for i in items_set:\n",
    "        items_arr.append([i, items_for_user.count(i)])\n",
    "\n",
    "    df = pd.DataFrame(items_arr, columns=['itemId', 'koef'])\n",
    "    df['koef'] = df['koef']/K\n",
    "    df = df.sort_values(by='koef', ascending=False)\n",
    "\n",
    "    return list(df['itemId'])"
   ]
  },
  {
   "cell_type": "code",
   "execution_count": 11,
   "id": "940df745",
   "metadata": {},
   "outputs": [
    {
     "ename": "NameError",
     "evalue": "name 'uMatrix' is not defined",
     "output_type": "error",
     "traceback": [
      "\u001b[0;31m---------------------------------------------------------------------------\u001b[0m",
      "\u001b[0;31mNameError\u001b[0m                                 Traceback (most recent call last)",
      "\u001b[0;32m<ipython-input-11-668f4fa0a8ff>\u001b[0m in \u001b[0;36m<module>\u001b[0;34m\u001b[0m\n\u001b[1;32m      2\u001b[0m \u001b[0;31m# %%time\u001b[0m\u001b[0;34m\u001b[0m\u001b[0;34m\u001b[0m\u001b[0;34m\u001b[0m\u001b[0m\n\u001b[1;32m      3\u001b[0m \u001b[0muser_id\u001b[0m \u001b[0;34m=\u001b[0m \u001b[0;36m8\u001b[0m\u001b[0;34m\u001b[0m\u001b[0;34m\u001b[0m\u001b[0m\n\u001b[0;32m----> 4\u001b[0;31m \u001b[0mGet_K_UserBased\u001b[0m\u001b[0;34m(\u001b[0m\u001b[0muser_id\u001b[0m\u001b[0;34m,\u001b[0m \u001b[0;36m15\u001b[0m\u001b[0;34m,\u001b[0m \u001b[0muMatrix\u001b[0m\u001b[0;34m.\u001b[0m\u001b[0mmatrix\u001b[0m\u001b[0;34m,\u001b[0m \u001b[0macqs\u001b[0m\u001b[0;34m)\u001b[0m\u001b[0;34m\u001b[0m\u001b[0;34m\u001b[0m\u001b[0m\n\u001b[0m",
      "\u001b[0;31mNameError\u001b[0m: name 'uMatrix' is not defined"
     ]
    }
   ],
   "source": [
    "## ---------------------------------------------Получаем список товаров для пользователя\n",
    "# %%time\n",
    "user_id = 8\n",
    "Get_K_UserBased(user_id, 15, uMatrix.matrix, acqs)"
   ]
  },
  {
   "cell_type": "markdown",
   "id": "6452240a",
   "metadata": {},
   "source": [
    "#### ---------------------------------------------------- Content-Based -------------------------------------"
   ]
  },
  {
   "cell_type": "code",
   "execution_count": 12,
   "id": "134c11de",
   "metadata": {},
   "outputs": [],
   "source": [
    "# ********************************************** * * * *\n",
    "\n",
    "def Get_K_PersonalContentBased(user_id, K, items_vector_matrix, acqq_matrix):\n",
    "    \n",
    "    getKnnItemsCB = GetKNearestNeighbours(items_vector_matrix, items_vector_matrix.index)\n",
    "    user_boughts = get_all_items_of_one_user(user_id, acqq_matrix)\n",
    "     \n",
    "    i_list = []\n",
    "    for one_item_id in user_boughts:\n",
    "        i_list.append(list(items.loc[one_item_id]))\n",
    "    i_list_df = pd.DataFrame(i_list)    \n",
    "    i_list_df.index = user_boughts\n",
    "    i_list_df.columns = items.columns\n",
    "    \n",
    "    \n",
    "    dv = DataVector()     \n",
    "    i_list_vector = dv.get_vector(i_list_df) #Превратили в вектор\n",
    "        \n",
    "    personal_user_vector = []\n",
    "    for col in items_vector.columns:\n",
    "        if col not in i_list_vector.columns:\n",
    "            personal_user_vector.append(0)\n",
    "        else:       \n",
    "            val = round(i_list_vector[col].sum()/len(i_list_vector[col]), 3)\n",
    "            personal_user_vector.append(val)\n",
    "                             \n",
    "    res = getKnnItemsCB.neighbours_for_single_object(K, [personal_user_vector])         \n",
    "    return list(res['id'])  "
   ]
  },
  {
   "cell_type": "code",
   "execution_count": 18,
   "id": "978e056a",
   "metadata": {},
   "outputs": [
    {
     "name": "stdout",
     "output_type": "stream",
     "text": [
      "CPU times: user 181 ms, sys: 11.5 ms, total: 193 ms\n",
      "Wall time: 183 ms\n"
     ]
    },
    {
     "data": {
      "text/plain": [
       "[20,\n",
       " 34,\n",
       " 531,\n",
       " 740,\n",
       " 1663,\n",
       " 1746,\n",
       " 256,\n",
       " 108,\n",
       " 33,\n",
       " 99,\n",
       " 88,\n",
       " 52,\n",
       " 79,\n",
       " 25,\n",
       " 1222,\n",
       " 1108,\n",
       " 302,\n",
       " 1104,\n",
       " 211,\n",
       " 1554,\n",
       " 301,\n",
       " 331,\n",
       " 607,\n",
       " 775,\n",
       " 349,\n",
       " 800,\n",
       " 1694,\n",
       " 573,\n",
       " 326,\n",
       " 1614,\n",
       " 713,\n",
       " 1077,\n",
       " 706,\n",
       " 1391,\n",
       " 739,\n",
       " 2255,\n",
       " 114,\n",
       " 50,\n",
       " 896,\n",
       " 149,\n",
       " 386,\n",
       " 337,\n",
       " 629,\n",
       " 1465,\n",
       " 1807,\n",
       " 1801,\n",
       " 1800,\n",
       " 526,\n",
       " 1038,\n",
       " 1752,\n",
       " 1760,\n",
       " 441,\n",
       " 625,\n",
       " 1511,\n",
       " 634,\n",
       " 1340,\n",
       " 1064,\n",
       " 917,\n",
       " 1767,\n",
       " 545,\n",
       " 1098,\n",
       " 1816,\n",
       " 852,\n",
       " 1078,\n",
       " 1540,\n",
       " 1508,\n",
       " 2012,\n",
       " 2018,\n",
       " 189,\n",
       " 818,\n",
       " 156,\n",
       " 2270,\n",
       " 1164,\n",
       " 2015,\n",
       " 2021,\n",
       " 168,\n",
       " 125,\n",
       " 39,\n",
       " 432,\n",
       " 1050,\n",
       " 104,\n",
       " 87,\n",
       " 1549,\n",
       " 105,\n",
       " 355,\n",
       " 77,\n",
       " 107,\n",
       " 210,\n",
       " 308,\n",
       " 475]"
      ]
     },
     "execution_count": 18,
     "metadata": {},
     "output_type": "execute_result"
    }
   ],
   "source": [
    "%%time\n",
    "user_id = 8\n",
    "res = Get_K_PersonalContentBased(user_id, 90, items_vector, acqs)\n",
    "res"
   ]
  },
  {
   "cell_type": "code",
   "execution_count": null,
   "id": "9859088f",
   "metadata": {},
   "outputs": [],
   "source": []
  },
  {
   "cell_type": "markdown",
   "id": "a26d406f",
   "metadata": {},
   "source": [
    "### ------------------------------------------------ Проверяем коэффициенты ----------------------------------"
   ]
  },
  {
   "cell_type": "code",
   "execution_count": 166,
   "id": "c46be39a",
   "metadata": {},
   "outputs": [],
   "source": [
    "from sklearn.metrics import f1_score \n",
    "\n",
    "def count_f1_score(true_matrix, item_list, user_id):\n",
    "        \n",
    "    f1_sc = 0\n",
    "    if len(item_list)>0:\n",
    "        pred_matrix = pd.DataFrame({item: [0] for item in true_matrix.columns})\n",
    "            \n",
    "        for iitem in item_list:\n",
    "            if iitem in pred_matrix.columns:\n",
    "                pred_matrix[iitem][0] = 1\n",
    "\n",
    "        f1_sc = f1_score(true_matrix.iloc[user_id], pred_matrix.iloc[0])\n",
    "       \n",
    "    return f1_sc\n"
   ]
  },
  {
   "cell_type": "code",
   "execution_count": 173,
   "id": "f72085f9",
   "metadata": {},
   "outputs": [],
   "source": [
    "from sklearn.metrics import precision_score\n",
    "\n",
    "def count_MOR_score(true_matrix, item_list, user_id):\n",
    "    \n",
    "        ap_k = 0\n",
    "        KK = min(10, len(item_list)) \n",
    "        \n",
    "        if KK>0:\n",
    "            ap_k_sum = 0 # Для одного пользователя - НЕ МЕРА, ТОЛЬКО СУММА\n",
    "            for _k_id in range(KK):\n",
    "                _k = _k_id+1    \n",
    "                if item_list[_k_id] in true_matrix.columns and list(true_matrix[item_list[_k_id]])[user_id] == 1:\n",
    "\n",
    "                    first_k = item_list[0:_k]\n",
    "                    first_k_row = pd.DataFrame({item: [0] for item in true_matrix.columns})\n",
    "            \n",
    "                    for iitem in first_k:\n",
    "                        first_k_row[iitem][0] = 1\n",
    "                    p_k = precision_score(true_matrix.iloc[user_id], first_k_row.iloc[0])\n",
    "                    ap_k_sum+=p_k\n",
    "                    \n",
    "            ap_k = ap_k_sum/KK \n",
    "            \n",
    "        return ap_k   "
   ]
  },
  {
   "cell_type": "code",
   "execution_count": 174,
   "id": "b2e6178f",
   "metadata": {},
   "outputs": [],
   "source": [
    "from sklearn.metrics import recall_score\n",
    "\n",
    "def count_recall_score(true_matrix, item_list, user_id):\n",
    "\n",
    "\n",
    "        \n",
    "        recall_sc = 0\n",
    "        if len(item_list)>0:\n",
    "            pred_matrix = pd.DataFrame({item: [0] for item in true_matrix.columns})\n",
    "            \n",
    "            for iitem in item_list:\n",
    "                if iitem in true_matrix.columns:\n",
    "                    pred_matrix[iitem][0] = 1\n",
    "            recall_sc = recall_score(true_matrix.iloc[user_id], pred_matrix.iloc[0])\n",
    "        return recall_sc"
   ]
  },
  {
   "cell_type": "code",
   "execution_count": 149,
   "id": "eb62f274",
   "metadata": {},
   "outputs": [],
   "source": [
    "koef_UB = 0.6\n",
    "koef_CB = 1 - koef_UB\n",
    "result = Range_Recoms(recoms_UB, recoms_CB, koef_UB, koef_CB)"
   ]
  },
  {
   "cell_type": "markdown",
   "id": "6bec3c80",
   "metadata": {},
   "source": [
    "### ------------------------------------------ Test -----------------------------"
   ]
  },
  {
   "cell_type": "code",
   "execution_count": 218,
   "id": "4fe450c4",
   "metadata": {},
   "outputs": [],
   "source": [
    "# Скажем, что мор где-то 0.18181777223261942, а рекол 0.9894541484716161"
   ]
  },
  {
   "cell_type": "code",
   "execution_count": 1,
   "id": "81a9d56c",
   "metadata": {},
   "outputs": [],
   "source": [
    "res_data=[\n",
    "    [0.4, 0.14254532677225482],\n",
    "    [0.5, 0.17997452692867549],\n",
    "    [0.6, 0.18181777223261942],\n",
    "    [0.7, 0.18181777223261942],\n",
    "    [0.8, 0.18181777223261942],\n",
    "    [0.9, 0.18181777223261942],\n",
    "]"
   ]
  },
  {
   "cell_type": "code",
   "execution_count": 5,
   "id": "efe72e85",
   "metadata": {},
   "outputs": [],
   "source": [
    "df = pd.DataFrame(res_data, columns=['UserBased_koef', 'MAP@K'])"
   ]
  },
  {
   "cell_type": "code",
   "execution_count": 6,
   "id": "00418a0a",
   "metadata": {},
   "outputs": [
    {
     "data": {
      "text/html": [
       "<div>\n",
       "<style scoped>\n",
       "    .dataframe tbody tr th:only-of-type {\n",
       "        vertical-align: middle;\n",
       "    }\n",
       "\n",
       "    .dataframe tbody tr th {\n",
       "        vertical-align: top;\n",
       "    }\n",
       "\n",
       "    .dataframe thead th {\n",
       "        text-align: right;\n",
       "    }\n",
       "</style>\n",
       "<table border=\"1\" class=\"dataframe\">\n",
       "  <thead>\n",
       "    <tr style=\"text-align: right;\">\n",
       "      <th></th>\n",
       "      <th>UserBased_koef</th>\n",
       "      <th>MAP@K</th>\n",
       "    </tr>\n",
       "  </thead>\n",
       "  <tbody>\n",
       "    <tr>\n",
       "      <th>0</th>\n",
       "      <td>0.4</td>\n",
       "      <td>0.142545</td>\n",
       "    </tr>\n",
       "    <tr>\n",
       "      <th>1</th>\n",
       "      <td>0.5</td>\n",
       "      <td>0.179975</td>\n",
       "    </tr>\n",
       "    <tr>\n",
       "      <th>2</th>\n",
       "      <td>0.6</td>\n",
       "      <td>0.181818</td>\n",
       "    </tr>\n",
       "    <tr>\n",
       "      <th>3</th>\n",
       "      <td>0.7</td>\n",
       "      <td>0.181818</td>\n",
       "    </tr>\n",
       "    <tr>\n",
       "      <th>4</th>\n",
       "      <td>0.8</td>\n",
       "      <td>0.181818</td>\n",
       "    </tr>\n",
       "    <tr>\n",
       "      <th>5</th>\n",
       "      <td>0.9</td>\n",
       "      <td>0.181818</td>\n",
       "    </tr>\n",
       "  </tbody>\n",
       "</table>\n",
       "</div>"
      ],
      "text/plain": [
       "   UserBased_koef     MAP@K\n",
       "0             0.4  0.142545\n",
       "1             0.5  0.179975\n",
       "2             0.6  0.181818\n",
       "3             0.7  0.181818\n",
       "4             0.8  0.181818\n",
       "5             0.9  0.181818"
      ]
     },
     "execution_count": 6,
     "metadata": {},
     "output_type": "execute_result"
    }
   ],
   "source": [
    "df"
   ]
  },
  {
   "cell_type": "code",
   "execution_count": 9,
   "id": "7af99a27",
   "metadata": {},
   "outputs": [
    {
     "data": {
      "image/png": "[encoded data removed]",
      "text/plain": [
       "<Figure size 576x432 with 1 Axes>"
      ]
     },
     "metadata": {
      "needs_background": "light"
     },
     "output_type": "display_data"
    }
   ],
   "source": [
    "import matplotlib.pyplot as plt\n",
    "\n",
    "fig, ax = plt.subplots()\n",
    "\n",
    "ax.plot(df['UserBased_koef'], df['MAP@K'], \n",
    "        label='MAP@K', \n",
    "        marker = 'o',\n",
    "        markersize = 5)\n",
    "\n",
    "fig.set_figwidth(8)\n",
    "fig.set_figheight(6)\n",
    "\n",
    "plt.legend()\n",
    "plt.show()"
   ]
  },
  {
   "cell_type": "markdown",
   "id": "a8450b5a",
   "metadata": {},
   "source": [
    "### ---------------------------------- Сбор рекомендаций --------------------------------------"
   ]
  },
  {
   "cell_type": "code",
   "execution_count": 22,
   "id": "837a5ce6",
   "metadata": {},
   "outputs": [],
   "source": [
    "# ********************************** * * * ** * *** * **  *\n",
    "\n",
    "def Range_Recoms(recoms_UB, recoms_CB, koef_UB=0.6, koef_CB=0.4):\n",
    "    recoms_df = {}\n",
    "    for i in range(len(recoms_CB)):\n",
    "        koef = (1-(i//5)*0.05) * koef_CB\n",
    "        recoms_df.setdefault(recoms_CB[i], koef)\n",
    "    for i in range(len(recoms_UB)):\n",
    "        item = recoms_UB[i]\n",
    "\n",
    "        if recoms_df.get(item) == None:\n",
    "            recoms_df.setdefault(item, 1 * koef_UB)\n",
    "        else:\n",
    "            koef_new = recoms_df.pop(item)\n",
    "            koef_new += 1 * koef_UB\n",
    "            recoms_df.setdefault(item, koef_new)  \n",
    "            \n",
    "    return(recoms_df)        "
   ]
  },
  {
   "cell_type": "code",
   "execution_count": 77,
   "id": "39934809",
   "metadata": {},
   "outputs": [],
   "source": [
    "# Range_Recoms(recoms_UB, recoms_CB)"
   ]
  },
  {
   "cell_type": "code",
   "execution_count": 41,
   "id": "7b5d6e2f",
   "metadata": {},
   "outputs": [
    {
     "name": "stdout",
     "output_type": "stream",
     "text": [
      "CPU times: user 1.16 s, sys: 304 ms, total: 1.47 s\n",
      "Wall time: 875 ms\n"
     ]
    }
   ],
   "source": [
    "%%time\n",
    "user_id = 15\n",
    "\n",
    "recoms_UB = Get_K_UserBased(user_id, 15, uMatrix.matrix, acqs)\n",
    "recoms_CB = Get_K_PersonalContentBased(user_id, 90, items_vector, acqs)"
   ]
  },
  {
   "cell_type": "code",
   "execution_count": null,
   "id": "552c414f",
   "metadata": {},
   "outputs": [],
   "source": []
  },
  {
   "cell_type": "code",
   "execution_count": 19,
   "id": "5818b30d",
   "metadata": {},
   "outputs": [
    {
     "data": {
      "text/plain": [
       "0"
      ]
     },
     "execution_count": 19,
     "metadata": {},
     "output_type": "execute_result"
    }
   ],
   "source": [
    "uMatrix.new_user(13000)"
   ]
  },
  {
   "cell_type": "code",
   "execution_count": null,
   "id": "de215f62",
   "metadata": {},
   "outputs": [],
   "source": [
    "user_id = 8"
   ]
  },
  {
   "cell_type": "code",
   "execution_count": 23,
   "id": "3ddb03ff",
   "metadata": {},
   "outputs": [
    {
     "data": {
      "text/plain": [
       "[]"
      ]
     },
     "execution_count": 23,
     "metadata": {},
     "output_type": "execute_result"
    }
   ],
   "source": [
    "u_items = get_all_items_of_one_user(user_id, acqs)\n",
    "u_items"
   ]
  },
  {
   "cell_type": "code",
   "execution_count": null,
   "id": "09baa6fb",
   "metadata": {},
   "outputs": [],
   "source": [
    "# Если пользователь что-то покупал, идем по обычной схеме, получаем рекомендации. \n",
    "# В функции ранжирования - если товаров 100, то все, иначе берем 100 популярных и проходимся рангом по ним\n",
    "\n",
    "# Если не покупал, берем 10 похожих на текущий товар + 100 популярных (отранговать)\n",
    "\n",
    "# Потом в итоге откусить первые 100."
   ]
  },
  {
   "cell_type": "code",
   "execution_count": 24,
   "id": "ce51e94e",
   "metadata": {},
   "outputs": [],
   "source": [
    "# Находим 100 самых популярных (потом в бд сделаем нормально)\n",
    "ui_matrix_trans = uMatrix.matrix.copy()\n",
    "ui_matrix_trans = ui_matrix_trans.T\n",
    "ui_matrix_trans['total'] = ui_matrix_trans.sum(axis=1)\n",
    "ui_matrix_trans = ui_matrix_trans.sort_values(by='total', ascending=False)\n",
    "popular = list(ui_matrix_trans.index)[0:100]"
   ]
  },
  {
   "cell_type": "code",
   "execution_count": 20,
   "id": "a9cec481",
   "metadata": {},
   "outputs": [],
   "source": [
    "# ******************************************** * * * * * * * ***************\n",
    "# Я даже удаляю то, что он уже купил\n",
    "def Get_N_Reccomendations(user_id, acqs_data, N=100, item_id=-1):\n",
    "    \n",
    "    users_bought = get_all_items_of_one_user(user_id, acqs_data)\n",
    "    if len(users_bought) > 0:\n",
    "        \n",
    "        recoms_UB = Get_K_UserBased(user_id, 15, uMatrix.matrix, acqs_data) # передаем все, кроме того, что берем из бд\n",
    "        recoms_CB = Get_K_PersonalContentBased(user_id, 90, items_vector, acqs_data)\n",
    "        recoms_ranged = Range_Recoms(recoms_UB, recoms_CB)\n",
    "                   \n",
    "    else:\n",
    "        recoms_CB_thisItem = []\n",
    "        if item_id != -1:\n",
    "            recoms_CB_thisItem.extend(Get_Simple_Items(items_vector, item_id, 21))\n",
    "        \n",
    "        recoms_ranged = {}\n",
    "        for i in recoms_CB_thisItem:\n",
    "            recoms_ranged.setdefault(i, 0.6)\n",
    "\n",
    "    \n",
    "    if len(recoms_ranged) < 100:\n",
    "        \n",
    "        koef_POP = 0.1\n",
    "        pop_list = popular\n",
    "        for i in range(len(pop_list)):\n",
    "            pop_item = pop_list[i]\n",
    "            if recoms_ranged.get(pop_item) == None:\n",
    "                recoms_ranged.setdefault(pop_item, 1 * koef_POP)\n",
    "            else:\n",
    "                koef_new = recoms_ranged.pop(pop_item)\n",
    "                koef_new += 1 * koef_POP\n",
    "                recoms_ranged.setdefault(pop_item, koef_new)  \n",
    "                \n",
    "    result = list(sorted(recoms_ranged, key=recoms_ranged.get, reverse=True))[0:N+len(users_bought)]  \n",
    "    for r_item in users_bought:\n",
    "        if r_item in result:\n",
    "            result.remove(r_item)\n",
    "            \n",
    "    return result "
   ]
  },
  {
   "cell_type": "code",
   "execution_count": 25,
   "id": "5eb4fb54",
   "metadata": {},
   "outputs": [
    {
     "data": {
      "text/plain": [
       "[23,\n",
       " 37,\n",
       " 180,\n",
       " 55,\n",
       " 793,\n",
       " 203,\n",
       " 1,\n",
       " 584,\n",
       " 1461,\n",
       " 216,\n",
       " 1735,\n",
       " 894,\n",
       " 1283,\n",
       " 1500,\n",
       " 131,\n",
       " 1942,\n",
       " 1786,\n",
       " 1787,\n",
       " 1668,\n",
       " 1802,\n",
       " 1033,\n",
       " 1117,\n",
       " 2093,\n",
       " 2095,\n",
       " 2084,\n",
       " 783,\n",
       " 910,\n",
       " 2286,\n",
       " 1687,\n",
       " 259,\n",
       " 1833,\n",
       " 1749,\n",
       " 610,\n",
       " 1765,\n",
       " 234,\n",
       " 1281,\n",
       " 715,\n",
       " 347,\n",
       " 644,\n",
       " 2017,\n",
       " 1640,\n",
       " 936,\n",
       " 867,\n",
       " 231,\n",
       " 726,\n",
       " 342,\n",
       " 452,\n",
       " 1393,\n",
       " 1797,\n",
       " 1682,\n",
       " 1008,\n",
       " 538,\n",
       " 1460,\n",
       " 1699,\n",
       " 1049,\n",
       " 1982,\n",
       " 1977,\n",
       " 1094,\n",
       " 1434,\n",
       " 122,\n",
       " 1613,\n",
       " 1145,\n",
       " 325,\n",
       " 1562,\n",
       " 126,\n",
       " 427,\n",
       " 1199,\n",
       " 413,\n",
       " 1908,\n",
       " 1503,\n",
       " 292,\n",
       " 1398,\n",
       " 1849,\n",
       " 1203,\n",
       " 2111,\n",
       " 1998,\n",
       " 1773,\n",
       " 764,\n",
       " 2190,\n",
       " 20,\n",
       " 26,\n",
       " 52,\n",
       " 61,\n",
       " 2,\n",
       " 15,\n",
       " 108,\n",
       " 8,\n",
       " 3,\n",
       " 4,\n",
       " 36,\n",
       " 31,\n",
       " 12,\n",
       " 85,\n",
       " 233,\n",
       " 65,\n",
       " 101,\n",
       " 106,\n",
       " 19,\n",
       " 70,\n",
       " 5]"
      ]
     },
     "execution_count": 25,
     "metadata": {},
     "output_type": "execute_result"
    }
   ],
   "source": [
    "res = Get_N_Reccomendations(1, acqs, 100, 1)\n",
    "list(res)"
   ]
  },
  {
   "cell_type": "markdown",
   "id": "8387056b",
   "metadata": {},
   "source": [
    "### ---------------------------------- Пытаемся собрать данные ---------------"
   ]
  },
  {
   "cell_type": "code",
   "execution_count": null,
   "id": "c3da60c7",
   "metadata": {},
   "outputs": [],
   "source": [
    "# User, Recoms_list, need_update\n",
    "# флаг везде = 0, становится 1, когда покупаем или логинимся\n",
    "# (обработка логина идет отдельно с добавлением записи в эту таблицу)"
   ]
  },
  {
   "cell_type": "code",
   "execution_count": 106,
   "id": "0f4a585f",
   "metadata": {},
   "outputs": [
    {
     "name": "stdout",
     "output_type": "stream",
     "text": [
      "12448\r"
     ]
    }
   ],
   "source": [
    "# list_with_users_and_their_recoms = []\n",
    "# users_ids_list = uMatrix.matrix.index\n",
    "\n",
    "for i in range (1, 12449):    \n",
    "    print(i, end='\\r')\n",
    "    \n",
    "    res = Get_N_Reccomendations(i, acqs, item_id=-1)\n",
    "    recoms_str = ''\n",
    "    for rec_item in res:\n",
    "        recoms_str+=(str(rec_item) + ';')\n",
    "\n",
    "    list_with_users_and_their_recoms.append([i, recoms_str, 0])    "
   ]
  },
  {
   "cell_type": "code",
   "execution_count": 140,
   "id": "ce3bc3a4",
   "metadata": {},
   "outputs": [
    {
     "data": {
      "text/plain": [
       "12399"
      ]
     },
     "execution_count": 140,
     "metadata": {},
     "output_type": "execute_result"
    }
   ],
   "source": [
    "len(list_with_users_and_their_recoms)"
   ]
  },
  {
   "cell_type": "code",
   "execution_count": 139,
   "id": "bc44509d",
   "metadata": {},
   "outputs": [],
   "source": [
    "list_with_users_and_their_recoms=list_with_users_and_their_recoms[50:12449]"
   ]
  },
  {
   "cell_type": "code",
   "execution_count": 111,
   "id": "807c321a",
   "metadata": {},
   "outputs": [],
   "source": [
    "# df = pd.DataFrame(list_with_users_and_their_recoms, columns=['userId', 'recoms', 'need_update'])"
   ]
  },
  {
   "cell_type": "code",
   "execution_count": 147,
   "id": "e7f93b8e",
   "metadata": {},
   "outputs": [
    {
     "data": {
      "text/plain": [
       "12448"
      ]
     },
     "execution_count": 147,
     "metadata": {},
     "output_type": "execute_result"
    }
   ],
   "source": [
    "# df = df.drop(df[df.index<51].index)\n",
    "len(df.index)"
   ]
  },
  {
   "cell_type": "code",
   "execution_count": 148,
   "id": "370c715a",
   "metadata": {},
   "outputs": [
    {
     "data": {
      "text/html": [
       "<div>\n",
       "<style scoped>\n",
       "    .dataframe tbody tr th:only-of-type {\n",
       "        vertical-align: middle;\n",
       "    }\n",
       "\n",
       "    .dataframe tbody tr th {\n",
       "        vertical-align: top;\n",
       "    }\n",
       "\n",
       "    .dataframe thead th {\n",
       "        text-align: right;\n",
       "    }\n",
       "</style>\n",
       "<table border=\"1\" class=\"dataframe\">\n",
       "  <thead>\n",
       "    <tr style=\"text-align: right;\">\n",
       "      <th></th>\n",
       "      <th>userId</th>\n",
       "      <th>recoms</th>\n",
       "      <th>need_update</th>\n",
       "    </tr>\n",
       "  </thead>\n",
       "  <tbody>\n",
       "    <tr>\n",
       "      <th>51</th>\n",
       "      <td>1</td>\n",
       "      <td>23;37;180;55;793;203;1;584;1461;216;1735;894;1...</td>\n",
       "      <td>0</td>\n",
       "    </tr>\n",
       "    <tr>\n",
       "      <th>52</th>\n",
       "      <td>2</td>\n",
       "      <td>2;164;202;205;148;330;1425;604;1548;889;2281;6...</td>\n",
       "      <td>0</td>\n",
       "    </tr>\n",
       "    <tr>\n",
       "      <th>53</th>\n",
       "      <td>3</td>\n",
       "      <td>793;37;180;1461;584;203;295;1393;259;910;1117;...</td>\n",
       "      <td>0</td>\n",
       "    </tr>\n",
       "    <tr>\n",
       "      <th>54</th>\n",
       "      <td>4</td>\n",
       "      <td>672;1912;133;1986;338;805;1058;1551;757;657;19...</td>\n",
       "      <td>0</td>\n",
       "    </tr>\n",
       "    <tr>\n",
       "      <th>55</th>\n",
       "      <td>5</td>\n",
       "      <td>754;515;115;1236;1701;1616;1923;1105;1421;486;...</td>\n",
       "      <td>0</td>\n",
       "    </tr>\n",
       "    <tr>\n",
       "      <th>56</th>\n",
       "      <td>6</td>\n",
       "      <td>23;180;55;188;91;203;584;1461;1942;338;318;166...</td>\n",
       "      <td>0</td>\n",
       "    </tr>\n",
       "    <tr>\n",
       "      <th>57</th>\n",
       "      <td>7</td>\n",
       "      <td>65;48;46;52;12;105;20;545;165;256;108;1435;166...</td>\n",
       "      <td>0</td>\n",
       "    </tr>\n",
       "    <tr>\n",
       "      <th>58</th>\n",
       "      <td>8</td>\n",
       "      <td>36;90;832;108;52;25;34;531;740;1663;1746;256;3...</td>\n",
       "      <td>0</td>\n",
       "    </tr>\n",
       "    <tr>\n",
       "      <th>59</th>\n",
       "      <td>9</td>\n",
       "      <td>89;409;707;887;399;1030;1599;272;542;572;768;5...</td>\n",
       "      <td>0</td>\n",
       "    </tr>\n",
       "    <tr>\n",
       "      <th>60</th>\n",
       "      <td>10</td>\n",
       "      <td>52;108;46;105;531;79;99;33;88;34;1767;156;1746...</td>\n",
       "      <td>0</td>\n",
       "    </tr>\n",
       "  </tbody>\n",
       "</table>\n",
       "</div>"
      ],
      "text/plain": [
       "    userId                                             recoms  need_update\n",
       "51       1  23;37;180;55;793;203;1;584;1461;216;1735;894;1...            0\n",
       "52       2  2;164;202;205;148;330;1425;604;1548;889;2281;6...            0\n",
       "53       3  793;37;180;1461;584;203;295;1393;259;910;1117;...            0\n",
       "54       4  672;1912;133;1986;338;805;1058;1551;757;657;19...            0\n",
       "55       5  754;515;115;1236;1701;1616;1923;1105;1421;486;...            0\n",
       "56       6  23;180;55;188;91;203;584;1461;1942;338;318;166...            0\n",
       "57       7  65;48;46;52;12;105;20;545;165;256;108;1435;166...            0\n",
       "58       8  36;90;832;108;52;25;34;531;740;1663;1746;256;3...            0\n",
       "59       9  89;409;707;887;399;1030;1599;272;542;572;768;5...            0\n",
       "60      10  52;108;46;105;531;79;99;33;88;34;1767;156;1746...            0"
      ]
     },
     "execution_count": 148,
     "metadata": {},
     "output_type": "execute_result"
    }
   ],
   "source": [
    "df.head(10)"
   ]
  },
  {
   "cell_type": "code",
   "execution_count": 160,
   "id": "2393d8e5",
   "metadata": {},
   "outputs": [],
   "source": [
    "# res = Get_N_Reccomendations(2, acqs, item_id=-1)"
   ]
  },
  {
   "cell_type": "code",
   "execution_count": 151,
   "id": "7fc984de",
   "metadata": {},
   "outputs": [],
   "source": [
    "df2 = df.copy()"
   ]
  },
  {
   "cell_type": "code",
   "execution_count": 154,
   "id": "8ffdbace",
   "metadata": {},
   "outputs": [],
   "source": [
    "# df2.index = df2['userId']\n",
    "ii = df2['userId']"
   ]
  },
  {
   "cell_type": "code",
   "execution_count": 156,
   "id": "117dcfaa",
   "metadata": {},
   "outputs": [],
   "source": [
    "df2 = df2.drop(columns = 'userId')"
   ]
  },
  {
   "cell_type": "code",
   "execution_count": 157,
   "id": "bb387277",
   "metadata": {},
   "outputs": [
    {
     "data": {
      "text/html": [
       "<div>\n",
       "<style scoped>\n",
       "    .dataframe tbody tr th:only-of-type {\n",
       "        vertical-align: middle;\n",
       "    }\n",
       "\n",
       "    .dataframe tbody tr th {\n",
       "        vertical-align: top;\n",
       "    }\n",
       "\n",
       "    .dataframe thead th {\n",
       "        text-align: right;\n",
       "    }\n",
       "</style>\n",
       "<table border=\"1\" class=\"dataframe\">\n",
       "  <thead>\n",
       "    <tr style=\"text-align: right;\">\n",
       "      <th></th>\n",
       "      <th>recoms</th>\n",
       "      <th>need_update</th>\n",
       "    </tr>\n",
       "    <tr>\n",
       "      <th>userId</th>\n",
       "      <th></th>\n",
       "      <th></th>\n",
       "    </tr>\n",
       "  </thead>\n",
       "  <tbody>\n",
       "    <tr>\n",
       "      <th>1</th>\n",
       "      <td>23;37;180;55;793;203;1;584;1461;216;1735;894;1...</td>\n",
       "      <td>0</td>\n",
       "    </tr>\n",
       "    <tr>\n",
       "      <th>2</th>\n",
       "      <td>2;164;202;205;148;330;1425;604;1548;889;2281;6...</td>\n",
       "      <td>0</td>\n",
       "    </tr>\n",
       "    <tr>\n",
       "      <th>3</th>\n",
       "      <td>793;37;180;1461;584;203;295;1393;259;910;1117;...</td>\n",
       "      <td>0</td>\n",
       "    </tr>\n",
       "    <tr>\n",
       "      <th>4</th>\n",
       "      <td>672;1912;133;1986;338;805;1058;1551;757;657;19...</td>\n",
       "      <td>0</td>\n",
       "    </tr>\n",
       "    <tr>\n",
       "      <th>5</th>\n",
       "      <td>754;515;115;1236;1701;1616;1923;1105;1421;486;...</td>\n",
       "      <td>0</td>\n",
       "    </tr>\n",
       "    <tr>\n",
       "      <th>...</th>\n",
       "      <td>...</td>\n",
       "      <td>...</td>\n",
       "    </tr>\n",
       "    <tr>\n",
       "      <th>12444</th>\n",
       "      <td>175;414;1375;350;293;492;481;599;167;261;395;1...</td>\n",
       "      <td>0</td>\n",
       "    </tr>\n",
       "    <tr>\n",
       "      <th>12445</th>\n",
       "      <td>14;4;67;149;1937;1615;779;1261;975;1403;1915;1...</td>\n",
       "      <td>0</td>\n",
       "    </tr>\n",
       "    <tr>\n",
       "      <th>12446</th>\n",
       "      <td>70;606;39;432;50;526;961;1657;624;1164;87;104;...</td>\n",
       "      <td>0</td>\n",
       "    </tr>\n",
       "    <tr>\n",
       "      <th>12447</th>\n",
       "      <td>226;364;1612;296;323;17;248;21;2006;372;1026;1...</td>\n",
       "      <td>0</td>\n",
       "    </tr>\n",
       "    <tr>\n",
       "      <th>12448</th>\n",
       "      <td>115;95;19;953;1538;94;668;781;68;630;9;194;67;...</td>\n",
       "      <td>0</td>\n",
       "    </tr>\n",
       "  </tbody>\n",
       "</table>\n",
       "<p>12448 rows × 2 columns</p>\n",
       "</div>"
      ],
      "text/plain": [
       "                                                   recoms  need_update\n",
       "userId                                                                \n",
       "1       23;37;180;55;793;203;1;584;1461;216;1735;894;1...            0\n",
       "2       2;164;202;205;148;330;1425;604;1548;889;2281;6...            0\n",
       "3       793;37;180;1461;584;203;295;1393;259;910;1117;...            0\n",
       "4       672;1912;133;1986;338;805;1058;1551;757;657;19...            0\n",
       "5       754;515;115;1236;1701;1616;1923;1105;1421;486;...            0\n",
       "...                                                   ...          ...\n",
       "12444   175;414;1375;350;293;492;481;599;167;261;395;1...            0\n",
       "12445   14;4;67;149;1937;1615;779;1261;975;1403;1915;1...            0\n",
       "12446   70;606;39;432;50;526;961;1657;624;1164;87;104;...            0\n",
       "12447   226;364;1612;296;323;17;248;21;2006;372;1026;1...            0\n",
       "12448   115;95;19;953;1538;94;668;781;68;630;9;194;67;...            0\n",
       "\n",
       "[12448 rows x 2 columns]"
      ]
     },
     "execution_count": 157,
     "metadata": {},
     "output_type": "execute_result"
    }
   ],
   "source": [
    "df2"
   ]
  },
  {
   "cell_type": "code",
   "execution_count": 161,
   "id": "0fd8f534",
   "metadata": {},
   "outputs": [],
   "source": [
    "df2.to_csv('user_recomendations.csv', sep='|')"
   ]
  },
  {
   "cell_type": "code",
   "execution_count": null,
   "id": "43a3a3c3",
   "metadata": {},
   "outputs": [],
   "source": []
  }
 ],
 "metadata": {
  "kernelspec": {
   "display_name": "Python 3",
   "language": "python",
   "name": "python3"
  },
  "language_info": {
   "codemirror_mode": {
    "name": "ipython",
    "version": 3
   },
   "file_extension": ".py",
   "mimetype": "text/x-python",
   "name": "python",
   "nbconvert_exporter": "python",
   "pygments_lexer": "ipython3",
   "version": "3.6.9"
  }
 },
 "nbformat": 4,
 "nbformat_minor": 5
}
